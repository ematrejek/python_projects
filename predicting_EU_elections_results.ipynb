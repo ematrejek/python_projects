{
 "cells": [
  {
   "cell_type": "code",
   "execution_count": null,
   "id": "31d865a9",
   "metadata": {},
   "outputs": [],
   "source": [
    "import pandas as pd\n",
    "from sklearn.model_selection import train_test_split\n",
    "from sklearn.linear_model import LinearRegression\n",
    "from sklearn.metrics import mean_absolute_error"
   ]
  },
  {
   "cell_type": "code",
   "execution_count": 26,
   "id": "89435a9d",
   "metadata": {
    "scrolled": true
   },
   "outputs": [],
   "source": [
    "\n",
    "file_path = r'C:\\Users\\ematrejek\\Downloads\\wyniki_wyborow.xlsx' #zamień na Twoją ścieżkę z plikiem\n",
    "\n",
    "data = pd.read_excel(file_path)\n",
    "\n",
    "# Usuń wiersze z brakującymi wartościami\n",
    "data_cleaned = data.dropna()\n",
    "\n",
    "# Przekształć dane na pivot table\n",
    "pivot_data = data_cleaned.pivot_table(index='Kod TERYT', columns=['wybory', 'partia'], values='głosy', fill_value=0)\n",
    "\n",
    "# Spłaszcz kolumny\n",
    "pivot_data.columns = ['_'.join(col).strip() for col in pivot_data.columns.values]\n",
    "pivot_data.reset_index(inplace=True)\n",
    "\n"
   ]
  },
  {
   "cell_type": "code",
   "execution_count": 29,
   "id": "08789988",
   "metadata": {},
   "outputs": [],
   "source": [
    "# Przygotowanie danych historycznych\n",
    "# Zakładam, że mamy dane z wyborów prezydenckich 2020, do sejmu 2019 i 2023\n",
    "X = pivot_data.drop(columns=['Kod TERYT'])\n",
    "y_columns = [col for col in pivot_data.columns if 'do sejmu 2023' in col]"
   ]
  },
  {
   "cell_type": "code",
   "execution_count": 30,
   "id": "62d7c036",
   "metadata": {},
   "outputs": [
    {
     "name": "stdout",
     "output_type": "stream",
     "text": [
      "Mean Absolute Error for do sejmu 2023_KONFEDERACJA: 8.86384299292331e-14\n",
      "Mean Absolute Error for do sejmu 2023_LEWICA: 4.8622439408063656e-14\n",
      "Mean Absolute Error for do sejmu 2023_PIS: 4.885549742539297e-13\n",
      "Mean Absolute Error for do sejmu 2023_PO: 1.8578560911919338e-13\n",
      "Mean Absolute Error for do sejmu 2023_TRZECIA DROGA: 1.2603607046912657e-13\n",
      "Predicted election results:\n",
      "1. do sejmu 2023_PIS: 238.40628419399758\n",
      "2. do sejmu 2023_PO: 138.20830831326083\n",
      "3. do sejmu 2023_TRZECIA DROGA: 83.35557212336685\n",
      "4. do sejmu 2023_KONFEDERACJA: 42.638344441845724\n",
      "5. do sejmu 2023_LEWICA: 38.0345205018994\n",
      "\n",
      "Percentage results:\n",
      "do sejmu 2023_KONFEDERACJA: 7.89%\n",
      "do sejmu 2023_LEWICA: 7.04%\n",
      "do sejmu 2023_PIS: 44.10%\n",
      "do sejmu 2023_PO: 25.56%\n",
      "do sejmu 2023_TRZECIA DROGA: 15.42%\n",
      "Description of the method:\n",
      "\n",
      "Użyty model: Regresja liniowa\n",
      "Zmienne: Wyniki wyborów prezydenckich 2020, wyniki wyborów do sejmu 2019 i 2023\n",
      "\n"
     ]
    }
   ],
   "source": [
    "# Przewidywanie wyników dla każdej partii w wyborach do sejmu 2023\n",
    "results = {}\n",
    "\n",
    "for y_col in y_columns:\n",
    "    # Podziel dane na cechy (X) i etykiety (y)\n",
    "    y = pivot_data[y_col]\n",
    "\n",
    "    # Podziel dane na zestaw treningowy i testowy\n",
    "    X_train, X_test, y_train, y_test = train_test_split(X, y, test_size=0.2, random_state=42)\n",
    "\n",
    "    # Stwórz i naucz model\n",
    "    model = LinearRegression()\n",
    "    model.fit(X_train, y_train)\n",
    "\n",
    "    # Przewidywanie wyników\n",
    "    y_pred = model.predict(X_test)\n",
    "\n",
    "    # Ocena modelu\n",
    "    mae = mean_absolute_error(y_test, y_pred)\n",
    "    print(f'Mean Absolute Error for {y_col}: {mae}')\n",
    "\n",
    "    # Przewidywanie na nowych danych (wybory do Parlamentu Europejskiego 2024)\n",
    "    y_pred_new = model.predict(X)\n",
    "\n",
    "    # Zapisz wyniki\n",
    "    results[y_col] = y_pred_new.mean()  # Zapisz średnią z przewidywanych wyników\n",
    "\n",
    "# Przedstawienie wyników\n",
    "print(\"Predicted election results:\")\n",
    "\n",
    "# Sortowanie wyników i wyświetlanie w kolejności od najwyższego do najniższego\n",
    "sorted_results = sorted(results.items(), key=lambda x: x[1], reverse=True)\n",
    "for rank, (party, prediction) in enumerate(sorted_results, 1):\n",
    "    print(f\"{rank}. {party}: {prediction}\")\n",
    "\n",
    "# Oblicz procentowe wyniki\n",
    "total_votes = sum(results.values())\n",
    "percentage_results = {party: (votes / total_votes) * 100 for party, votes in results.items()}\n",
    "\n",
    "print(\"\\nPercentage results:\")\n",
    "for party, percentage in percentage_results.items():\n",
    "    print(f\"{party}: {percentage:.2f}%\")\n",
    "\n",
    "# Opis metody\n",
    "method_description = \"\"\"\n",
    "Użyty model: Regresja liniowa\n",
    "Zmienne: Wyniki wyborów prezydenckich 2020, wyniki wyborów do sejmu 2019 i 2023\n",
    "\"\"\"\n",
    "\n",
    "print(\"Description of the method:\")\n",
    "print(method_description)"
   ]
  },
  {
   "attachments": {},
   "cell_type": "markdown",
   "id": "4b3e994d",
   "metadata": {},
   "source": [
    "Z racji, że sytuacja w polityce jest dosyć dynamiczna, przeszukaliśmy artykuły w Internecie w poszukiwaniu wyników tegorocznych sondaży przedwyborczych.\n",
    "Zgromadziliśmy wyniki 8 różnych sondaży, m.in. CBOS, IBRiS i IPSOS.\n",
    "Następnie wyliczyliśmy średnie wyniki procentowe 5 głównych partii, które wyglądają następująco:\n",
    "\n",
    "KONFEDERACJA\t9.8%\n",
    "LEWICA\t8.0%\n",
    "PIS\t30.2%\n",
    "PO\t30.3%\n",
    "TRZECIA_DROGA\t10.6%\n",
    "\n",
    "W oparciu o te wyniki, a także o oszacowania MAE regresji liniowej, dokonujemy poprawki oszacowań regresji liniowej."
   ]
  },
  {
   "cell_type": "code",
   "execution_count": 34,
   "id": "747fc6bf",
   "metadata": {},
   "outputs": [
    {
     "name": "stdout",
     "output_type": "stream",
     "text": [
      "\n",
      "Adjusted Percentage Results:\n",
      "PO: 34.07%\n",
      "PIS: 33.96%\n",
      "TRZECIA DROGA: 11.95%\n",
      "KONFEDERACJA: 11.02%\n",
      "LEWICA: 9.00%\n"
     ]
    }
   ],
   "source": [
    "# Mean Absolute Error for each party\n",
    "mae = {\n",
    "    'KONFEDERACJA': 8.86384299292331e-14,\n",
    "    'LEWICA': 4.8622439408063656e-14,\n",
    "    'PIS': 4.885549742539297e-13,\n",
    "    'PO': 1.8578560911919338e-13,\n",
    "    'TRZECIA DROGA': 1.2603607046912657e-13\n",
    "}\n",
    "\n",
    "\n",
    "# Pre-election survey results in percentages\n",
    "survey_results = {\n",
    "    'KONFEDERACJA': 9.8,\n",
    "    'LEWICA': 8.0,\n",
    "    'PIS': 30.2,\n",
    "    'PO': 30.3,\n",
    "    'TRZECIA DROGA': 10.63\n",
    "}\n",
    "\n",
    "# Convert survey percentages to proportions\n",
    "total_survey = sum(survey_results.values())\n",
    "survey_proportions = {party: (value / total_survey) for party, value in survey_results.items()}\n",
    "\n",
    "# Calculate the adjustment factor for each party\n",
    "total_predicted = sum(predicted_results.values())\n",
    "predicted_proportions = {party: (value / total_predicted) for party, value in predicted_results.items()}\n",
    "\n",
    "# Adjust the predicted results based on survey data\n",
    "adjusted_results = {party: (predicted_results[party] * survey_proportions[party] / predicted_proportions[party]) \n",
    "                    for party in predicted_results}\n",
    "\n",
    "# Calculate the new total and percentages\n",
    "adjusted_total = sum(adjusted_results.values())\n",
    "adjusted_percentages = {party: (value / adjusted_total) * 100 for party, value in adjusted_results.items()}\n",
    "\n",
    "print(\"\\nAdjusted Percentage Results:\")\n",
    "for party, percentage in sorted(adjusted_percentages.items(), key=lambda x: x[1], reverse=True):\n",
    "    print(f\"{party}: {percentage:.2f}%\")"
   ]
  }
 ],
 "metadata": {
  "kernelspec": {
   "display_name": "Python 3 (ipykernel)",
   "language": "python",
   "name": "python3"
  },
  "language_info": {
   "codemirror_mode": {
    "name": "ipython",
    "version": 3
   },
   "file_extension": ".py",
   "mimetype": "text/x-python",
   "name": "python",
   "nbconvert_exporter": "python",
   "pygments_lexer": "ipython3",
   "version": "3.9.13"
  }
 },
 "nbformat": 4,
 "nbformat_minor": 5
}
