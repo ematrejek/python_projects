{
 "cells": [
  {
   "cell_type": "markdown",
   "id": "86726107-6c9b-4559-afc5-bc9fcc469313",
   "metadata": {},
   "source": [
    "# Praca domowa 2\n",
    "## Emilia Matrejek 100916"
   ]
  },
  {
   "cell_type": "code",
   "execution_count": 1,
   "id": "7f7ede87-7ced-46eb-b02a-d665980bb8de",
   "metadata": {},
   "outputs": [],
   "source": [
    "import numpy as np\n",
    "import pandas as pd"
   ]
  },
  {
   "cell_type": "markdown",
   "id": "b8cff6e7-7da4-431c-820e-89e14d6e5610",
   "metadata": {},
   "source": [
    "W pierwszym kroku definiuję funkcję, która oblicza współczynniki regresji metodą najmniejszych kwadratów (KMNK)."
   ]
  },
  {
   "cell_type": "code",
   "execution_count": 43,
   "id": "f3a5eb11-5423-48a1-897d-fc0d11df1565",
   "metadata": {},
   "outputs": [],
   "source": [
    "def check_and_reshape_X(X):\n",
    "    if isinstance(X, pd.Series):  # Jeśli X jest Pandas Series\n",
    "        X = X.to_numpy()  # Konwertujemy na NumPy array\n",
    "    if X.ndim == 1:  # Jeśli X jest wektorem 1D, przekształć na 2D\n",
    "        X = X.reshape(-1, 1)  # Konwertuj na macierz o kształcie (n, 1)\n",
    "    return X"
   ]
  },
  {
   "cell_type": "code",
   "execution_count": null,
   "id": "9580ab66-a191-43d5-b238-1b6fd0de1000",
   "metadata": {},
   "outputs": [],
   "source": [
    "def fit_linear_model(X, y):\n",
    "    X = check_and_reshape_X(X) \n",
    "    X_with_intercept = np.c_[np.ones(X.shape[0]), X]  ##dodanie kolumny z jedynkami dla wyrazu wolnego\n",
    "    \n",
    "    try:\n",
    "        beta = np.linalg.inv(X_with_intercept.T @ X_with_intercept) @ X_with_intercept.T @ y ##zgodnie ze wzorem na betę\n",
    "    except np.linalg.LinAlgError:\n",
    "        lambda_identity = np.eye(X_with_intercept.shape[1]) * 1e-8\n",
    "        beta = np.linalg.inv(X_with_intercept.T @ X_with_intercept + lambda_identity) @ X_with_intercept.T @ y\n",
    "    return beta"
   ]
  },
  {
   "cell_type": "markdown",
   "id": "6f5b8906-37e2-4677-8254-a994cd0553c8",
   "metadata": {},
   "source": [
    "Następnie definiuję funkcję, która oblicza reszty i macierz inf (dźwigni)."
   ]
  },
  {
   "cell_type": "code",
   "execution_count": 4,
   "id": "81d0745a-739a-4f77-8b57-c5828e5980cc",
   "metadata": {},
   "outputs": [],
   "source": [
    "def calculate_residuals_and_influence(X, y, beta):\n",
    "    X = check_and_reshape_X(X)\n",
    "    X_with_intercept = np.c_[np.ones(X.shape[0]), X] ##dodaję do macierzy X kolumnę z jedynkami, aby uwzględnić wyraz wolny\n",
    "    y_pred = X_with_intercept @ beta # obliczam prognozowane y za pomocą współczynnika beta uzyskanego w poprzedniej funkcji\n",
    "    residuals = y - y_pred # obliczam reszty\n",
    "    inf = X_with_intercept @ np.linalg.pinv(X_with_intercept.T @ X_with_intercept) @ X_with_intercept.T # definiowanie macierzy inf (od influence matrix) - jest to macierz, która mapuje wektor rzeczywistych wartości y na wektor prognoz\n",
    "    #zgodnie ze wzorem z wykładu\n",
    "    #tutaj na przekątnej są wartości reprezentujące dźwignię\n",
    "    return residuals, inf"
   ]
  },
  {
   "cell_type": "markdown",
   "id": "36b33aa3-f1dc-49e2-a6e0-f5462a3b22d4",
   "metadata": {},
   "source": [
    "Trzecia funkcja - obliczanie wartości miary D Cooka - różnica w wynikach procedury w wypadku hipotetycznego usunięia i nieusunięcia danej obserwacji z próby"
   ]
  },
  {
   "cell_type": "code",
   "execution_count": 5,
   "id": "5e97bc73-5e16-4570-a916-01c88b11876d",
   "metadata": {},
   "outputs": [],
   "source": [
    "def cook_distance(X, y, beta):\n",
    "    residuals, inf = calculate_residuals_and_influence(X, y, beta) ## obliczamy resztę i macierz inf z poprzedniej funkcji\n",
    "    mse = np.mean(residuals**2) ## tutaj w internecie znalazłam wzór który wykorzystuje właśnie elementy przekątnej macierzy wpływu, najpierw liczę średni błąd kwadratowy\n",
    "    if X.ndim == 1:\n",
    "        X = X.to_numpy().reshape(-1, 1)\n",
    "    cook_d = (residuals**2 / (X.shape[1] * mse)) * (inf.diagonal() / (1 - inf.diagonal())**2) ## i tutaj według tego wzoru miarę D Cooka\n",
    "    return cook_d"
   ]
  },
  {
   "cell_type": "markdown",
   "id": "8fdc4700-f6a8-4384-976d-bcdc998a3d5a",
   "metadata": {},
   "source": [
    "Teraz definiuję funkcję do regresji odpornej - będzie zmniejszała wagi obserwacji odstających (zidentyfikowanych na podstawie miary D Cooka"
   ]
  },
  {
   "cell_type": "code",
   "execution_count": 40,
   "id": "8926f73b-10a9-4348-ada6-c59263d94474",
   "metadata": {},
   "outputs": [],
   "source": [
    "\n",
    "def robust_regression(X, y, max_iter=10): #na razie maksymalna liczba iteracji to 10\n",
    "    X = check_and_reshape_X(X)\n",
    "    threshold=4 / len(y) # tutaj jako threshold ustaliłam 4/len(y), też znalazłam w internecie że stosuje się 4/n\n",
    " \n",
    "    \n",
    "    \n",
    "    beta = fit_linear_model(X, y) # Inicjalizacja współczynników za pomocą pierwszej funkcji\n",
    "    \n",
    "    for i in range(max_iter):\n",
    "        \n",
    "        cook_d = cook_distance(X, y, beta) # Obliczanie reszt i statystyki Cooka za pomocą ostatniej funkcji\n",
    "        \n",
    "        \n",
    "        outliers = np.where(cook_d > threshold)[0] # Zidentyfikowanie punktów odstających\n",
    "        \n",
    "        if len(outliers) == 0:\n",
    "            break  # Jeśli nie ma punktów odstających, zakończymy iterację\n",
    "        \n",
    "        \n",
    "        weights = np.ones(len(y)) # Zastosowanie wag, zmniejszając wagę punktów odstających\n",
    "        weights[outliers] = 0.1  # Zmniejszamy wagę punktów odstających, tutaj stosuję 0.1\n",
    "\n",
    "        # Dopasowanie modelu z nowymi wagami\n",
    "        X_weighted = X * np.sqrt(weights[:, np.newaxis])\n",
    "        y_weighted = y * np.sqrt(weights)\n",
    "        beta = fit_linear_model(X_weighted, y_weighted)\n",
    "    \n",
    "    return beta, outliers"
   ]
  },
  {
   "cell_type": "markdown",
   "id": "ec560054-4366-4666-9ae5-742fae061ea3",
   "metadata": {},
   "source": [
    "Na koniec funkcja do resamplingu"
   ]
  },
  {
   "cell_type": "code",
   "execution_count": null,
   "id": "04267014-d82b-4621-8445-7ae8d21154c3",
   "metadata": {},
   "outputs": [],
   "source": [
    "def bootstrap_resampling(X, y, regression_function, n_iter=1000):\n",
    "\n",
    "    if isinstance(X, pd.DataFrame) or isinstance(X, pd.Series): ##tu tylko technicznie konwersja na numpy jeśli są w formacie Pandas DataFrame\n",
    "        X = X.to_numpy()\n",
    "    if isinstance(y, pd.Series):\n",
    "        y = y.to_numpy()\n",
    "\n",
    "    n = len(y)\n",
    "    coefs = [] ##lista, która będzie przechowywać współczynniki regresji dla każdej próbki bootstrapowej\n",
    "\n",
    "    ##pętla bootstrapowa\n",
    "    for _ in range(n_iter):\n",
    "        indices = np.random.choice(n, size=n, replace=True)  ##tworzę próbkę bootstrapową - losowanie ze zwracaniem\n",
    "        X_resampled, y_resampled = X[indices], y[indices] #tworzenie próbek z X i y na podstawie wylosowanych indeksów\n",
    "\n",
    "        # dopasowanie modelu do próbki\n",
    "        beta_resampled, _ = regression_function(X_resampled, y_resampled) ##teraz normalnie stosuje się tą funkcję ale tylko na wylosowanej próbce\n",
    "        coefs.append(beta_resampled)\n",
    "\n",
    "    coefs = np.array(coefs)  ##teraz mamy macierz, gdzie każdy wiersz to współczynniki z jednej próby bootstrapowej\n",
    "    coef_means = np.mean(coefs, axis=0) ##obliczamy średnie współczynniki na podstawie wyników z wszystkich prób\n",
    "    coef_stds = np.std(coefs, axis=0) ##obliczamy odchylenie standardowe dla każdego współczynnika regresji\n",
    "\n",
    "    return coef_means, coef_stds"
   ]
  },
  {
   "cell_type": "markdown",
   "id": "23d51426-8792-4446-bf7e-ba2f76165bad",
   "metadata": {},
   "source": [
    "Na przykładowych danych:"
   ]
  },
  {
   "cell_type": "code",
   "execution_count": null,
   "id": "ea16c510-38e7-4c07-b264-5bba350791f0",
   "metadata": {},
   "outputs": [
    {
     "data": {
      "text/html": [
       "<div>\n",
       "<style scoped>\n",
       "    .dataframe tbody tr th:only-of-type {\n",
       "        vertical-align: middle;\n",
       "    }\n",
       "\n",
       "    .dataframe tbody tr th {\n",
       "        vertical-align: top;\n",
       "    }\n",
       "\n",
       "    .dataframe thead th {\n",
       "        text-align: right;\n",
       "    }\n",
       "</style>\n",
       "<table border=\"1\" class=\"dataframe\">\n",
       "  <thead>\n",
       "    <tr style=\"text-align: right;\">\n",
       "      <th></th>\n",
       "      <th>name</th>\n",
       "      <th>mpg</th>\n",
       "      <th>cylinders</th>\n",
       "      <th>displacement</th>\n",
       "      <th>horsepower</th>\n",
       "      <th>weight</th>\n",
       "      <th>acceleration</th>\n",
       "      <th>model_year</th>\n",
       "      <th>origin</th>\n",
       "    </tr>\n",
       "  </thead>\n",
       "  <tbody>\n",
       "    <tr>\n",
       "      <th>0</th>\n",
       "      <td>chevrolet chevelle malibu</td>\n",
       "      <td>18.0</td>\n",
       "      <td>8</td>\n",
       "      <td>307.0</td>\n",
       "      <td>130.0</td>\n",
       "      <td>3504</td>\n",
       "      <td>12.0</td>\n",
       "      <td>70</td>\n",
       "      <td>usa</td>\n",
       "    </tr>\n",
       "    <tr>\n",
       "      <th>1</th>\n",
       "      <td>buick skylark 320</td>\n",
       "      <td>15.0</td>\n",
       "      <td>8</td>\n",
       "      <td>350.0</td>\n",
       "      <td>165.0</td>\n",
       "      <td>3693</td>\n",
       "      <td>11.5</td>\n",
       "      <td>70</td>\n",
       "      <td>usa</td>\n",
       "    </tr>\n",
       "    <tr>\n",
       "      <th>2</th>\n",
       "      <td>plymouth satellite</td>\n",
       "      <td>18.0</td>\n",
       "      <td>8</td>\n",
       "      <td>318.0</td>\n",
       "      <td>150.0</td>\n",
       "      <td>3436</td>\n",
       "      <td>11.0</td>\n",
       "      <td>70</td>\n",
       "      <td>usa</td>\n",
       "    </tr>\n",
       "    <tr>\n",
       "      <th>3</th>\n",
       "      <td>amc rebel sst</td>\n",
       "      <td>16.0</td>\n",
       "      <td>8</td>\n",
       "      <td>304.0</td>\n",
       "      <td>150.0</td>\n",
       "      <td>3433</td>\n",
       "      <td>12.0</td>\n",
       "      <td>70</td>\n",
       "      <td>usa</td>\n",
       "    </tr>\n",
       "    <tr>\n",
       "      <th>4</th>\n",
       "      <td>ford torino</td>\n",
       "      <td>17.0</td>\n",
       "      <td>8</td>\n",
       "      <td>302.0</td>\n",
       "      <td>140.0</td>\n",
       "      <td>3449</td>\n",
       "      <td>10.5</td>\n",
       "      <td>70</td>\n",
       "      <td>usa</td>\n",
       "    </tr>\n",
       "  </tbody>\n",
       "</table>\n",
       "</div>"
      ],
      "text/plain": [
       "                        name   mpg  cylinders  displacement  horsepower  \\\n",
       "0  chevrolet chevelle malibu  18.0          8         307.0       130.0   \n",
       "1          buick skylark 320  15.0          8         350.0       165.0   \n",
       "2         plymouth satellite  18.0          8         318.0       150.0   \n",
       "3              amc rebel sst  16.0          8         304.0       150.0   \n",
       "4                ford torino  17.0          8         302.0       140.0   \n",
       "\n",
       "   weight  acceleration  model_year origin  \n",
       "0    3504          12.0          70    usa  \n",
       "1    3693          11.5          70    usa  \n",
       "2    3436          11.0          70    usa  \n",
       "3    3433          12.0          70    usa  \n",
       "4    3449          10.5          70    usa  "
      ]
     },
     "execution_count": 31,
     "metadata": {},
     "output_type": "execute_result"
    }
   ],
   "source": [
    "file_path = ...\n",
    "\n",
    "df = pd.read_csv(file_path)"
   ]
  },
  {
   "cell_type": "code",
   "execution_count": null,
   "id": "f12272b9",
   "metadata": {},
   "outputs": [],
   "source": [
    "df = df.dropna() ##konieczne jest usunięcie braków danych"
   ]
  },
  {
   "cell_type": "code",
   "execution_count": null,
   "id": "4fb10aad-67c1-4791-bc98-8c98a35e5106",
   "metadata": {},
   "outputs": [],
   "source": [
    "X = df[...]\n",
    "y = df[...]"
   ]
  },
  {
   "cell_type": "code",
   "execution_count": 44,
   "id": "03ba8152-7686-48b0-b602-167b0444e8d2",
   "metadata": {},
   "outputs": [
    {
     "name": "stdout",
     "output_type": "stream",
     "text": [
      "Szacowane współczynniki regresji: [7.05063357 0.03176854]\n",
      "Indeksy punktów odstających (Cook's Distance > threshold): [  1   5   6   7   8   9  10  11  13  23  25  26  27  28  37  38  62  66\n",
      "  69  84  89  93  94  95 102 105 115 123 152 161 198 210 220 227 228 229\n",
      " 261 295 324 326]\n",
      "Średnie współczynniki (Bootstrap): [7.69747394 0.03149313]\n",
      "Odchylenia standardowe współczynników (Bootstrap): [3.54308904e+00 1.46734519e-03]\n"
     ]
    }
   ],
   "source": [
    "beta, outliers = robust_regression(X, y)\n",
    "\n",
    "print(f\"Szacowane współczynniki regresji: {beta}\")\n",
    "print(f\"Indeksy punktów odstających (Cook's Distance > threshold): {outliers}\")\n",
    "    \n",
    "\n",
    "coef_means, coef_stds = bootstrap_resampling(X, y, robust_regression)\n",
    "print(f\"Średnie współczynniki (Bootstrap): {coef_means}\")\n",
    "print(f\"Odchylenia standardowe współczynników (Bootstrap): {coef_stds}\")"
   ]
  },
  {
   "cell_type": "code",
   "execution_count": 49,
   "id": "753d77e0",
   "metadata": {},
   "outputs": [
    {
     "data": {
      "text/plain": [
       "<matplotlib.legend.Legend at 0x2233e6634a0>"
      ]
     },
     "execution_count": 49,
     "metadata": {},
     "output_type": "execute_result"
    },
    {
     "data": {
      "image/png": "[encoded data removed]",
      "text/plain": [
       "<Figure size 1000x600 with 1 Axes>"
      ]
     },
     "metadata": {},
     "output_type": "display_data"
    }
   ],
   "source": [
    "import matplotlib.pyplot as plt\n",
    "\n",
    "##predykcje dla modelu regresji\n",
    "X_with_intercept = np.c_[np.ones(X.shape[0]), X]  ##dodanie kolumny z jedynkami dla wyrazu wolnego\n",
    "y_pred = X_with_intercept @ beta  ##prognozowane wartości y\n",
    "\n",
    "plt.figure(figsize=(10, 6))\n",
    "\n",
    "##rysuję wszystkie punkty (normalne i odstające)\n",
    "plt.scatter(X, y, color='blue', label='Normalne obserwacje')\n",
    "\n",
    "##teraz punkty odstające\n",
    "plt.scatter(X[outliers], y[outliers], color='red', label='Punkty odstające')\n",
    "\n",
    "##Linia regresji\n",
    "plt.plot(X, y_pred, color='green', label='Regresja')\n",
    "\n",
    "plt.title(\"Wykres regresji z punktami odstającymi\")\n",
    "plt.xlabel(\"X\")\n",
    "plt.ylabel(\"y\")\n",
    "plt.legend()"
   ]
  },
  {
   "cell_type": "code",
   "execution_count": null,
   "id": "235d5df1",
   "metadata": {},
   "outputs": [],
   "source": []
  }
 ],
 "metadata": {
  "kernelspec": {
   "display_name": "Python 3",
   "language": "python",
   "name": "python3"
  },
  "language_info": {
   "codemirror_mode": {
    "name": "ipython",
    "version": 3
   },
   "file_extension": ".py",
   "mimetype": "text/x-python",
   "name": "python",
   "nbconvert_exporter": "python",
   "pygments_lexer": "ipython3",
   "version": "3.12.0"
  }
 },
 "nbformat": 4,
 "nbformat_minor": 5
}
